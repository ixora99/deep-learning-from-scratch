{
  "nbformat": 4,
  "nbformat_minor": 0,
  "metadata": {
    "colab": {
      "name": "Untitled16.ipynb",
      "version": "0.3.2",
      "provenance": [],
      "include_colab_link": true
    },
    "kernelspec": {
      "name": "python3",
      "display_name": "Python 3"
    },
    "accelerator": "TPU"
  },
  "cells": [
    {
      "cell_type": "markdown",
      "metadata": {
        "id": "view-in-github",
        "colab_type": "text"
      },
      "source": [
        "<a href=\"https://colab.research.google.com/github/ixora99/deep-learning-from-scratch/blob/master/test1.ipynb\" target=\"_parent\"><img src=\"https://colab.research.google.com/assets/colab-badge.svg\" alt=\"Open In Colab\"/></a>"
      ]
    },
    {
      "metadata": {
        "id": "Vbd8XrfNwl_a",
        "colab_type": "code",
        "colab": {}
      },
      "cell_type": "code",
      "source": [
        "class Affine:\n",
        "    def __init__(self,W,b):\n",
        "      self.W = W\n",
        "      self.b = b\n",
        "      self.x = None\n",
        "      self.dW = None\n",
        "      self.dB = None\n",
        "      \n",
        "    def forward(self,x):\n",
        "      self.x=x\n",
        "      return np.dot(self.W, self.x) + self.b\n",
        "    \n",
        "    def backward(self,dout):\n",
        "      dx=np.dot(dout,self.W.T)\n",
        "      self.dW=np.dot(self.x.T,dout)\n",
        "      self.dB=np.sum(dout,axis=0)\n",
        "      return dx\n",
        "      "
      ],
      "execution_count": 0,
      "outputs": []
    },
    {
      "metadata": {
        "id": "o65kfyDj3XHE",
        "colab_type": "code",
        "colab": {}
      },
      "cell_type": "code",
      "source": [
        "class sigmoid:\n",
        "    def __init__(self):\n",
        "      self.out =None\n",
        "    def forward(self,x):\n",
        "      out = 1/(1+np.exp(-x))\n",
        "      self.out=out\n",
        "      return out\n",
        "    def backward(self,dout):\n",
        "      dx=dout*(1.0-self.out)*self.out\n",
        "      return dx\n",
        "      "
      ],
      "execution_count": 0,
      "outputs": []
    },
    {
      "metadata": {
        "id": "LmvXpajX5WFm",
        "colab_type": "code",
        "colab": {}
      },
      "cell_type": "code",
      "source": [
        ""
      ],
      "execution_count": 0,
      "outputs": []
    }
  ]
}